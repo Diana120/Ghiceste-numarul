{
  "nbformat": 4,
  "nbformat_minor": 0,
  "metadata": {
    "colab": {
      "provenance": []
    },
    "kernelspec": {
      "name": "python3",
      "display_name": "Python 3"
    },
    "language_info": {
      "name": "python"
    }
  },
  "cells": [
    {
      "cell_type": "code",
      "execution_count": null,
      "metadata": {
        "id": "xXTeoM-wFr_J",
        "colab": {
          "base_uri": "https://localhost:8080/"
        },
        "outputId": "d5db9da9-7398-4a0f-e3bd-aca98a866223"
      },
      "outputs": [
        {
          "output_type": "stream",
          "name": "stdout",
          "text": [
            "Scrie un numar:1\n",
            "mai incearca\n",
            "Scrie un numar:2\n",
            "mai incearca\n",
            "Scrie un numar:3\n",
            "mai incearca\n",
            "Scrie un numar:4\n",
            "mai incearca\n",
            "Scrie un numar:5\n",
            "mai incearca\n",
            "Scrie un numar:6\n",
            "mai incearca\n",
            "Scrie un numar:7\n",
            "mai incearca\n",
            "Scrie un numar:8\n",
            "mai incearca\n",
            "Scrie un numar:9\n",
            "mai incearca\n",
            "Scrie un numar:10\n",
            "mai incearca\n",
            "Scrie un numar:11\n",
            "mai incearca\n",
            "Scrie un numar:21\n",
            "mai incearca\n",
            "Scrie un numar:22\n",
            "mai incearca\n",
            "Scrie un numar:12\n",
            "mai incearca\n",
            "Scrie un numar:13\n",
            "Felicitari, ai castigat!\n",
            "Ai incercat de  15 ori\n"
          ]
        }
      ],
      "source": [
        "# Ghiceste numarul\n",
        "import random\n",
        "\n",
        "numar_utilizator=int(input('Scrie un numar:'))\n",
        "count=0\n",
        "while True:\n",
        "  numar_secret=random.randint(1,21)\n",
        "  count+=1\n",
        "  if numar_utilizator==numar_secret:\n",
        "    print('Felicitari, ai castigat!')\n",
        "    break\n",
        "  elif numar_utilizator != numar_secret:\n",
        "    print('mai incearca')\n",
        "    numar_utilizator=int(input('Scrie un numar:'))\n",
        "\n",
        "print('Ai incercat de ', count, 'ori')"
      ]
    },
    {
      "cell_type": "code",
      "source": [],
      "metadata": {
        "id": "lIyBTOw4GwYb"
      },
      "execution_count": 23,
      "outputs": []
    },
    {
      "cell_type": "code",
      "source": [
        "a"
      ],
      "metadata": {
        "id": "XLPC8oPXPTuf"
      },
      "execution_count": null,
      "outputs": []
    }
  ]
}